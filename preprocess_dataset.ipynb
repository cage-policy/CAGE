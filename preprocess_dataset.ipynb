{
 "cells": [
  {
   "cell_type": "code",
   "execution_count": null,
   "metadata": {},
   "outputs": [],
   "source": [
    "import os\n",
    "import json\n",
    "import numpy as np\n",
    "from tqdm import tqdm\n",
    "import pandas as pd"
   ]
  },
  {
   "cell_type": "code",
   "execution_count": null,
   "metadata": {},
   "outputs": [],
   "source": [
    "task_root = 'PATH_TO_DATASET_ROOT'\n",
    "in_hand_cam_id = 'cam_043322070878'\n",
    "fixed_cam_ids = ['cam_750612070851']\n",
    "# user_id and task_id can be used to filter the dataset\n",
    "user_id = None\n",
    "task_id = None"
   ]
  },
  {
   "cell_type": "code",
   "execution_count": null,
   "metadata": {},
   "outputs": [],
   "source": [
    "def validate_camera(task_path, cam_id, metadata):\n",
    "    if 'bad_calib_view' in metadata and cam_id[4:] in metadata['bad_calib_view']:\n",
    "        return False\n",
    "    color_dir = os.path.join(task_path, cam_id, 'color')\n",
    "    tcp_dir = os.path.join(task_path, cam_id, 'tcp')\n",
    "    gripper_info_dir = os.path.join(task_path, cam_id, 'gripper_info')\n",
    "    if not os.path.exists(color_dir):\n",
    "        return False\n",
    "    if not os.path.exists(tcp_dir):\n",
    "        return False\n",
    "    if not os.path.exists(gripper_info_dir):\n",
    "        return False\n",
    "    frame_ids = os.listdir(color_dir)\n",
    "    if len(frame_ids) <= 10:\n",
    "        return False\n",
    "    if not os.path.exists(os.path.join(task_path, cam_id, 'timestamps.npy')):\n",
    "        frame_ids = [int(f[:-4]) for f in frame_ids]\n",
    "        frame_ids = sorted(frame_ids)\n",
    "        np.save(os.path.join(task_path, cam_id, 'timestamps.npy'), {'color': frame_ids})\n",
    "\n",
    "    return True"
   ]
  },
  {
   "cell_type": "code",
   "execution_count": null,
   "metadata": {},
   "outputs": [],
   "source": [
    "arr_all = []\n",
    "task_ids = os.listdir(task_root)\n",
    "task_ids = [x for x in task_ids if x[:4] == 'task']\n",
    "for task in tqdm(task_ids, desc=f'Loading...'):\n",
    "    task_path = os.path.join(task_root, task)\n",
    "\n",
    "    parts = task.split('_')\n",
    "    if user_id is not None and int(parts[3]) != user_id:\n",
    "        continue\n",
    "    if task_id is not None and int(parts[1]) != task_id:\n",
    "        continue\n",
    "    \n",
    "    files = os.listdir(task_path)\n",
    "    fixed_cams = [f for f in files if f in fixed_cam_ids]\n",
    "\n",
    "    with open(os.path.join(task_path, 'metadata.json')) as f:\n",
    "        metadata = json.load(f)\n",
    "    if 'finish_time' not in metadata or metadata['finish_time'] == -1:\n",
    "        continue\n",
    "    if 'rating' not in metadata or metadata['rating'] <= 1:\n",
    "        continue\n",
    "    \n",
    "    cams = []\n",
    "    cam_types = []\n",
    "    if validate_camera(task_path, in_hand_cam_id, metadata):\n",
    "        cams.append(in_hand_cam_id)\n",
    "        cam_types.append('in_hand')\n",
    "    for cam_id in fixed_cams:\n",
    "        if validate_camera(task_path, cam_id, metadata):\n",
    "            cams.append(cam_id)\n",
    "            cam_types.append('fixed')\n",
    "    if len(cams) == 0:\n",
    "        continue\n",
    "\n",
    "    start_timestamps = []\n",
    "    end_timestamps = []\n",
    "    cam_timestamps = {}\n",
    "    for cam_id in cams:\n",
    "        timestamp_path = os.path.join(task_path, cam_id, 'timestamps.npy')\n",
    "        timestamps = np.array(np.load(timestamp_path, allow_pickle=True).item()['color'])\n",
    "        cam_timestamps[cam_id] = timestamps\n",
    "        start_timestamps.append(timestamps[1])\n",
    "        end_timestamps.append(timestamps[-2])\n",
    "    max_start_timestamp = max(start_timestamps) - 50\n",
    "    min_end_timestamp = min(end_timestamps) + 50\n",
    "    min_end_timestamp = min(min_end_timestamp, metadata['finish_time'] + 50)\n",
    "\n",
    "    demo_len = min_end_timestamp - max_start_timestamp\n",
    "    if demo_len < 1 * 1000 or demo_len > 120 * 1000: # only keep video with reasonable length\n",
    "        continue\n",
    "    \n",
    "    for cam_id, cam_type in zip(cams, cam_types):\n",
    "        idx = np.flatnonzero((cam_timestamps[cam_id] >= max_start_timestamp) & (cam_timestamps[cam_id] <= min_end_timestamp))\n",
    "\n",
    "        arr_all.append([\n",
    "            task_path,\n",
    "            int(parts[1]),  # task\n",
    "            int(parts[3]),  # user\n",
    "            int(parts[5]),  # scene\n",
    "            int(parts[7]),  # config\n",
    "            cam_id,\n",
    "            cam_type,\n",
    "            max_start_timestamp,\n",
    "            min_end_timestamp,\n",
    "            idx[0],\n",
    "            idx[-1],\n",
    "            cam_timestamps[cam_id][idx[0]],\n",
    "        ])"
   ]
  },
  {
   "cell_type": "code",
   "execution_count": null,
   "metadata": {},
   "outputs": [],
   "source": [
    "df = pd.DataFrame(columns=['path', 'task', 'user', 'scene', 'config', 'cam_id', 'cam_type', 'start_timestamp', 'end_timestamp', 'start_frame_idx', 'end_frame_idx', 'start_frame_timestamp'], data=arr_all)\n",
    "df"
   ]
  },
  {
   "cell_type": "code",
   "execution_count": null,
   "metadata": {},
   "outputs": [],
   "source": [
    "df.to_csv('dataset.csv', sep=' ', index=False)"
   ]
  },
  {
   "cell_type": "code",
   "execution_count": null,
   "metadata": {},
   "outputs": [],
   "source": []
  }
 ],
 "metadata": {
  "kernelspec": {
   "display_name": "ml2",
   "language": "python",
   "name": "python3"
  },
  "language_info": {
   "codemirror_mode": {
    "name": "ipython",
    "version": 3
   },
   "file_extension": ".py",
   "mimetype": "text/x-python",
   "name": "python",
   "nbconvert_exporter": "python",
   "pygments_lexer": "ipython3",
   "version": "3.10.13"
  }
 },
 "nbformat": 4,
 "nbformat_minor": 2
}
